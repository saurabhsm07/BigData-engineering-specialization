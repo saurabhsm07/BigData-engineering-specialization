{
 "cells": [
  {
   "cell_type": "markdown",
   "metadata": {},
   "source": [
    "### System Config:"
   ]
  },
  {
   "cell_type": "code",
   "execution_count": null,
   "metadata": {},
   "outputs": [],
   "source": [
    "#initial config work\n",
    "\n",
    "import os\n",
    "import sys\n",
    "        \n",
    "# add working directory\n",
    "os.chdir(os.getcwd())\n",
    "\n",
    "# Create a variable for our root path\n",
    "SPARK_HOME = os.environ['SPARK_HOME']\n",
    "\n",
    "#Add the following paths to the system path.\n",
    "sys.path.insert(0,os.path.join(SPARK_HOME,\"python\"))\n",
    "sys.path.insert(0,os.path.join(SPARK_HOME,\"python\",\"lib\"))\n",
    "sys.path.insert(0,os.path.join(SPARK_HOME,\"python\",\"lib\",\"pyspark.zip\"))\n",
    "sys.path.insert(0,os.path.join(SPARK_HOME,\"python\",\"lib\",\"py4j-0.10.7-src.zip\"))"
   ]
  },
  {
   "cell_type": "markdown",
   "metadata": {},
   "source": [
    "### Spark Session Config:"
   ]
  },
  {
   "cell_type": "code",
   "execution_count": null,
   "metadata": {},
   "outputs": [],
   "source": [
    "#create spark session\n",
    "from pyspark.sql import SparkSession\n",
    "\n",
    "spark = (SparkSession.builder\n",
    "                     .master(\"local\")\n",
    "                     .appName(\"scratch\")\n",
    "                     .config(\"spark.executor.memory\", \"1g\")\n",
    "                     .config(\"spark.cores.max\", \"2\")\n",
    "                     .getOrCreate())"
   ]
  },
  {
   "cell_type": "markdown",
   "metadata": {},
   "source": [
    "#### Extract CSV File:"
   ]
  },
  {
   "cell_type": "code",
   "execution_count": null,
   "metadata": {},
   "outputs": [],
   "source": [
    "\n",
    "retail_df = (spark.read.csv('./../input-data/test-data/retail.csv',\n",
    "                                schema=None,\n",
    "                                sep=\",\",\n",
    "                                inferSchema=True,\n",
    "                                header=True))\n",
    "retail_df.printSchema()"
   ]
  },
  {
   "cell_type": "markdown",
   "metadata": {},
   "source": [
    "### Aggregations : "
   ]
  },
  {
   "cell_type": "markdown",
   "metadata": {},
   "source": [
    "#### WINDOW:"
   ]
  },
  {
   "cell_type": "code",
   "execution_count": null,
   "metadata": {},
   "outputs": [],
   "source": [
    "#create a window function\n",
    "\n",
    "from pyspark.sql.window import Window\n",
    "from pyspark.sql.functions import col, date_format, desc, dense_rank, rank, max\n",
    "\n",
    "#convert date format on retail_df\n",
    "transform_step1 = (retail_df.withColumn('InvoiceDate', \n",
    "                                      date_format(col(\"InvoiceDate\"), \"MM/dd/yyyy H:mm\")))\n",
    "\n",
    "#window function\n",
    "window_function = (Window.partitionBy(\"CustomerId\")\n",
    "                   .orderBy(desc(\"Quantity\"))\n",
    "                   .rowsBetween(Window.unboundedPreceding, Window.currentRow))\n",
    "\n",
    "\n",
    "#aggregate functions\n",
    "max_purchase_quantity = max(col(\"Quantity\")).over(window_function)\n",
    "\n",
    "\n",
    "#rank functions\n",
    "purchase_dense_rank = dense_rank().over(window_function)\n",
    "purchase_rank = rank().over(window_function)\n",
    "\n",
    "transformed_df = (retail_df.withColumn('InvoiceDate', date_format(col(\"InvoiceDate\"), \"MM/dd/yyyy H:mm\"))\n",
    "                           .where(\"CustomerId IS NOT NULL\")\n",
    "                           .orderBy(\"CustomerId\")\n",
    "                           .select(col(\"CustomerId\"),\n",
    "                                   col(\"InvoiceDate\"),\n",
    "                                   col(\"Quantity\"),\n",
    "                                   purchase_rank.alias(\"quantityRank\"),\n",
    "                                   purchase_dense_rank.alias(\"quantityDenseRank\"),\n",
    "                                   max_purchase_quantity.alias(\"maxPurchaseQuantity\")))\n",
    "\n",
    "transformed_df.show(10)"
   ]
  },
  {
   "cell_type": "code",
   "execution_count": null,
   "metadata": {},
   "outputs": [],
   "source": [
    "transformed_df.show(10).explain()"
   ]
  },
  {
   "cell_type": "markdown",
   "metadata": {},
   "source": [
    "#### GROUP BY:"
   ]
  },
  {
   "cell_type": "code",
   "execution_count": null,
   "metadata": {},
   "outputs": [],
   "source": [
    "from pyspark.sql.functions import sum, to_date, col;\n",
    "groupByDF = (retail_df.drop()\n",
    "                      .withColumn(\"date\", to_date(col(\"InvoiceDate\"), \"MM/d/yyyy H:mm\"))\n",
    "                      .groupBy(\"Date\", \"Country\")\n",
    "                      .agg(sum(\"Quantity\"))\n",
    "                      .selectExpr(\"Date\", \"Country\", \"`sum(Quantity)` as total_quantity\")\n",
    "                      .orderBy(\"Date\"))\n",
    "groupByDF.show()"
   ]
  },
  {
   "cell_type": "code",
   "execution_count": null,
   "metadata": {},
   "outputs": [],
   "source": [
    "groupByDF.count()"
   ]
  },
  {
   "cell_type": "markdown",
   "metadata": {},
   "source": [
    "#### ROLL UP:"
   ]
  },
  {
   "cell_type": "code",
   "execution_count": null,
   "metadata": {},
   "outputs": [],
   "source": [
    "from pyspark.sql.functions import sum, to_date, col;\n",
    "rollupDF = (retail_df.drop()\n",
    "                      .withColumn(\"date\", to_date(col(\"InvoiceDate\"), \"MM/d/yyyy H:mm\"))\n",
    "                      .rollup(\"Date\", \"Country\")\n",
    "                      .agg(sum(\"Quantity\"))\n",
    "                      .selectExpr(\"Date\", \"Country\", \"`sum(Quantity)` as total_quantity\")\n",
    "                      .orderBy(\"Date\"))\n",
    "rollupDF.show()\n"
   ]
  },
  {
   "cell_type": "code",
   "execution_count": null,
   "metadata": {},
   "outputs": [],
   "source": [
    "rollupDF.count()"
   ]
  },
  {
   "cell_type": "markdown",
   "metadata": {},
   "source": [
    "#### CUBE:"
   ]
  },
  {
   "cell_type": "code",
   "execution_count": null,
   "metadata": {},
   "outputs": [],
   "source": [
    "from pyspark.sql.functions import sum, to_date, col;\n",
    "cubeDF = (retail_df.drop()\n",
    "                      .withColumn(\"date\", to_date(col(\"InvoiceDate\"), \"MM/d/yyyy H:mm\"))\n",
    "                      .cube(\"Date\", \"Country\")\n",
    "                      .agg(sum(\"Quantity\"))\n",
    "                      .selectExpr(\"Date\", \"Country\", \"`sum(Quantity)` as total_quantity\")\n",
    "                      .orderBy(\"Date\"))\n",
    "cubeDF.show()"
   ]
  },
  {
   "cell_type": "code",
   "execution_count": null,
   "metadata": {},
   "outputs": [],
   "source": [
    "cubeDF.count()"
   ]
  },
  {
   "cell_type": "markdown",
   "metadata": {},
   "source": [
    "#### GROUPING METADATA:"
   ]
  },
  {
   "cell_type": "code",
   "execution_count": null,
   "metadata": {},
   "outputs": [],
   "source": [
    "from pyspark.sql.functions import sum, to_date, col, grouping_id;\n",
    "\n",
    "cubeWithGroupIdDF = (retail_df.drop()\n",
    "#                       .withColumn(\"date\", to_date(col(\"InvoiceDate\"), \"MM/d/yyyy H:mm\"))\n",
    "                      .cube(\"CustomerID\", \"stockcode\")\n",
    "                      .agg(sum(\"Quantity\"), grouping_id())\n",
    "                      .selectExpr(\"CustomerID\", \"stockcode\",\"`grouping_id()` as gid\", \"`sum(Quantity)` as total_quantity\")\n",
    "                      .orderBy(col(\"gid\").desc()))\n",
    "cubeWithGroupIdDF.show()\n"
   ]
  },
  {
   "cell_type": "code",
   "execution_count": null,
   "metadata": {},
   "outputs": [],
   "source": [
    "cubeWithGroupIdDF.count()"
   ]
  },
  {
   "cell_type": "code",
   "execution_count": null,
   "metadata": {},
   "outputs": [],
   "source": [
    "rollupWithGroupIdDF = (retail_df.drop()\n",
    "#                       .withColumn(\"date\", to_date(col(\"InvoiceDate\"), \"MM/d/yyyy H:mm\"))\n",
    "                      .rollup(\"CustomerID\", \"stockcode\")\n",
    "                      .agg(sum(\"Quantity\"), grouping_id())\n",
    "                      .selectExpr(\"CustomerID\", \"stockcode\",\"`grouping_id()` as gid\", \"`sum(Quantity)` as total_quantity\")\n",
    "                      .orderBy(col(\"gid\").desc()))\n",
    "rollupWithGroupIdDF.show()"
   ]
  },
  {
   "cell_type": "code",
   "execution_count": null,
   "metadata": {},
   "outputs": [],
   "source": [
    "rollupWithGroupIdDF.count()"
   ]
  },
  {
   "cell_type": "markdown",
   "metadata": {},
   "source": [
    "#### PIVOT:"
   ]
  },
  {
   "cell_type": "code",
   "execution_count": null,
   "metadata": {},
   "outputs": [],
   "source": [
    "from pyspark.sql.functions import sum, to_date, col;\n",
    "pivoted = retail_df.withColumn('date', to_date(col('invoicedate'), 'dd:mm:yy hh:mm')).groupBy(\"date\").pivot(\"Country\").sum()\n",
    "pivoted.printSchema()"
   ]
  },
  {
   "cell_type": "markdown",
   "metadata": {},
   "source": [
    "### Session Stop:"
   ]
  },
  {
   "cell_type": "code",
   "execution_count": null,
   "metadata": {},
   "outputs": [],
   "source": [
    "spark.stop()"
   ]
  }
 ],
 "metadata": {
  "kernelspec": {
   "display_name": "Python 3",
   "language": "python",
   "name": "python3"
  },
  "language_info": {
   "codemirror_mode": {
    "name": "ipython",
    "version": 3
   },
   "file_extension": ".py",
   "mimetype": "text/x-python",
   "name": "python",
   "nbconvert_exporter": "python",
   "pygments_lexer": "ipython3",
   "version": "3.7.6"
  }
 },
 "nbformat": 4,
 "nbformat_minor": 4
}
