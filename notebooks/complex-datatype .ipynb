{
 "cells": [
  {
   "cell_type": "markdown",
   "metadata": {},
   "source": [
    "### System Config :"
   ]
  },
  {
   "cell_type": "code",
   "execution_count": null,
   "metadata": {},
   "outputs": [],
   "source": [
    "#initial config work\n",
    "\n",
    "import os\n",
    "import sys\n",
    "        \n",
    "# add working directory\n",
    "os.chdir(os.getcwd())\n",
    "\n",
    "# Create a variable for our root path\n",
    "SPARK_HOME = os.environ['SPARK_HOME']\n",
    "\n",
    "#Add the following paths to the system path.\n",
    "sys.path.insert(0,os.path.join(SPARK_HOME,\"python\"))\n",
    "sys.path.insert(0,os.path.join(SPARK_HOME,\"python\",\"lib\"))\n",
    "sys.path.insert(0,os.path.join(SPARK_HOME,\"python\",\"lib\",\"pyspark.zip\"))\n",
    "sys.path.insert(0,os.path.join(SPARK_HOME,\"python\",\"lib\",\"py4j-0.10.7-src.zip\"))"
   ]
  },
  {
   "cell_type": "markdown",
   "metadata": {},
   "source": [
    "### SPARK Session Config :"
   ]
  },
  {
   "cell_type": "code",
   "execution_count": null,
   "metadata": {},
   "outputs": [],
   "source": [
    "#create spark session\n",
    "from pyspark.sql import SparkSession\n",
    "\n",
    "spark = (SparkSession.builder\n",
    "                     .master(\"local\")\n",
    "                     .appName(\"complex-type-scratch\")\n",
    "                     .config(\"spark.executor.memory\", \"1g\")\n",
    "                     .config(\"spark.cores.max\", \"2\")\n",
    "                     .getOrCreate())"
   ]
  },
  {
   "cell_type": "markdown",
   "metadata": {},
   "source": [
    "### json custom object read :"
   ]
  },
  {
   "cell_type": "code",
   "execution_count": null,
   "metadata": {},
   "outputs": [],
   "source": [
    "\n",
    "categoryData = (spark.range(1)\n",
    "                     .selectExpr(\"\"\"\n",
    "                                     '\n",
    "                                         {\"categories\" :\n",
    "\n",
    "                                            [{\"id\": 1, \n",
    "                                            \"name\" : \"cat_1\", \n",
    "                                            \"sections\":[\n",
    "                                                {\n",
    "                                                \"id\": 1,\n",
    "                                                \"name\": \"sec_1\",\n",
    "                                                \"articles\":[{\n",
    "                                                                \"id\":11,\n",
    "                                                                \"name\": \"art_11\"\n",
    "                                                            },\n",
    "                                                            {\n",
    "                                                                \"id\":12,\n",
    "                                                                \"name\": \"art_12\"\n",
    "                                                            },\n",
    "                                                            {\n",
    "                                                                \"id\":13,\n",
    "                                                                \"name\": \"art_13\"\n",
    "                                                            }]\n",
    "                                                },\n",
    "                                                {\n",
    "                                                \"id\": 2,\n",
    "                                                \"name\": \"sec_2\",\n",
    "                                                \"articles\":[{\n",
    "                                                                \"id\":21,\n",
    "                                                                \"name\": \"art_21\"\n",
    "                                                            },\n",
    "                                                            {\n",
    "                                                                \"id\":22,\n",
    "                                                                \"name\": \"art_22\"\n",
    "                                                            },\n",
    "                                                            {\n",
    "                                                                \"id\":23,\n",
    "                                                                \"name\": \"art_23\"\n",
    "                                                            }]\n",
    "                                                }]\n",
    "                                                },\n",
    "                                            {\"id\": 2,\n",
    "                                            \"name\" : \"cat_2\", \n",
    "                                            \"sections\":[\n",
    "                                                {\n",
    "                                                \"id\": 3,\n",
    "                                                \"name\": \"sec_3\",\n",
    "                                                \"articles\":[{\n",
    "                                                                \"id\":31,\n",
    "                                                                \"name\": \"art_31\"\n",
    "                                                            },\n",
    "                                                            {\n",
    "                                                                \"id\":32,\n",
    "                                                                \"name\": \"art_32\"\n",
    "                                                            },\n",
    "                                                            {\n",
    "                                                                \"id\":33,\n",
    "                                                                \"name\": \"art_33\"\n",
    "                                                            }]\n",
    "                                                },\n",
    "                                                {\n",
    "                                                \"id\": 4,\n",
    "                                                \"name\": \"sec_4\",\n",
    "                                                \"articles\":[{\n",
    "                                                                \"id\":41,\n",
    "                                                                \"name\": \"art_41\"\n",
    "                                                            },\n",
    "                                                            {\n",
    "                                                                \"id\":42,\n",
    "                                                                \"name\": \"art_42\"\n",
    "                                                            },\n",
    "                                                            {\n",
    "                                                                \"id\":43,\n",
    "                                                                \"name\": \"art_43\"\n",
    "                                                            }]\n",
    "                                                }]\n",
    "                                                }\n",
    "                                                ]\n",
    "                                                }'\n",
    "                                                    as categoryData\n",
    "                                            \n",
    "                                         \"\"\"))\n",
    "\n"
   ]
  },
  {
   "cell_type": "code",
   "execution_count": null,
   "metadata": {},
   "outputs": [],
   "source": [
    "from pyspark.sql.functions import get_json_object, json_tuple, col\n",
    "\n",
    "flatdata_df = (categoryData.withColumn('article_id',get_json_object(col('categoryData'), '$.categories[*].sections[*].articles[*].id'))\n",
    "                           .withColumn('section_id',get_json_object(col('categoryData'), '$.categories[*].sections[*].id'))\n",
    "                           .withColumn('category_id',get_json_object(col('categoryData'), '$.categories[*].id')))\n",
    "\n"
   ]
  },
  {
   "cell_type": "code",
   "execution_count": null,
   "metadata": {},
   "outputs": [],
   "source": [
    "from pyspark.sql.functions import explode\n",
    "flatdata_df.select('article_id', 'section_id', 'category_id').show()\n"
   ]
  },
  {
   "cell_type": "markdown",
   "metadata": {},
   "source": [
    "#### Read JSON File:"
   ]
  },
  {
   "cell_type": "code",
   "execution_count": null,
   "metadata": {},
   "outputs": [],
   "source": [
    "cms_df = (spark.read.json('./../datasets/cms/*.json',\n",
    "                                multiLine=True))\n",
    "cms_df.printSchema()"
   ]
  },
  {
   "cell_type": "code",
   "execution_count": null,
   "metadata": {},
   "outputs": [],
   "source": [
    "cms_df.show()"
   ]
  },
  {
   "cell_type": "code",
   "execution_count": null,
   "metadata": {},
   "outputs": [],
   "source": [
    "# from pyspark.sql.functions import to_json\n",
    "# category_df = category_df.withColumn('category_json', to_json(col('categories')))\n",
    "# category_df.printSchema()"
   ]
  },
  {
   "cell_type": "markdown",
   "metadata": {},
   "source": [
    "#### Transform to CSV format:"
   ]
  },
  {
   "cell_type": "code",
   "execution_count": null,
   "metadata": {},
   "outputs": [],
   "source": [
    "from pyspark.sql.functions import get_json_object, json_tuple, col, expr, explode\n",
    "\n",
    "category_breakdown_df = cms_df.withColumn('category', explode('categories')).select('category')\n",
    "\n",
    "section_breakdown_df = (category_breakdown_df.withColumn('section', explode(col('category').getField('sections')))\n",
    "                          .withColumn('category_id', col('category').getField('id'))\n",
    "                           .withColumn('category_name', col('category').getField('name'))\n",
    "                          .drop('category'))\n",
    "\n",
    "\n",
    "article_breakdown_df = (section_breakdown_df.withColumn('article', explode(col('section').getField('articles')))\n",
    "                          .withColumn('section_id', col('section').getField('id'))\n",
    "                           .withColumn('section_name', col('section').getField('name'))\n",
    "                          .drop('section'))\n",
    "\n",
    "\n",
    "flat_df = (article_breakdown_df.withColumn('article_id', col('article').getField('id'))\n",
    "                          .withColumn('article_name', col('article').getField('name'))\n",
    "                          .drop('article'))\n",
    "\n",
    "flat_df.printSchema()"
   ]
  },
  {
   "cell_type": "code",
   "execution_count": null,
   "metadata": {},
   "outputs": [],
   "source": [
    "flat_df.count()"
   ]
  },
  {
   "cell_type": "markdown",
   "metadata": {},
   "source": [
    "### Session Stop :"
   ]
  },
  {
   "cell_type": "code",
   "execution_count": null,
   "metadata": {},
   "outputs": [],
   "source": [
    "spark.stop()"
   ]
  }
 ],
 "metadata": {
  "kernelspec": {
   "display_name": "Python 3",
   "language": "python",
   "name": "python3"
  },
  "language_info": {
   "codemirror_mode": {
    "name": "ipython",
    "version": 3
   },
   "file_extension": ".py",
   "mimetype": "text/x-python",
   "name": "python",
   "nbconvert_exporter": "python",
   "pygments_lexer": "ipython3",
   "version": "3.7.6"
  }
 },
 "nbformat": 4,
 "nbformat_minor": 4
}
